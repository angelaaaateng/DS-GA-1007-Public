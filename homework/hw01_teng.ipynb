{
 "cells": [
  {
   "cell_type": "markdown",
   "metadata": {},
   "source": [
    "## Homework 1"
   ]
  },
  {
   "cell_type": "markdown",
   "metadata": {},
   "source": [
    "Please import the following packages."
   ]
  },
  {
   "cell_type": "code",
   "execution_count": 2,
   "metadata": {},
   "outputs": [],
   "source": [
    "import numpy as np\n",
    "import scipy.sparse"
   ]
  },
  {
   "cell_type": "markdown",
   "metadata": {},
   "source": [
    "Please download `memory.py` from Resources/Homework/Homework01 on NYU Classes. Save it to the same directory as the Jupyter notebook. Please import the following package."
   ]
  },
  {
   "cell_type": "code",
   "execution_count": 3,
   "metadata": {},
   "outputs": [],
   "source": [
    "import memory"
   ]
  },
  {
   "cell_type": "markdown",
   "metadata": {},
   "source": [
    "### Loops\n",
    "\n",
    "**_How to go through the entries of an array top to bottom/left to right?_**"
   ]
  },
  {
   "cell_type": "markdown",
   "metadata": {},
   "source": [
    "1. Given an array `inputArray`, write a `for` loop that flattens it to `outputArray`. For example, `inputArray = np.array([[1,2], [3,4]])`\n",
    "would yield `np.array([1,2,3,4])` for `outputArray`."
   ]
  },
  {
   "cell_type": "code",
   "execution_count": 4,
   "metadata": {},
   "outputs": [
    {
     "name": "stdout",
     "output_type": "stream",
     "text": [
      "[[1 2]\n",
      " [3 4]]\n",
      "[1 2 3 4]\n",
      "[1 2 3 4]\n",
      "<class 'numpy.ndarray'>\n"
     ]
    }
   ],
   "source": [
    "inputArray = np.array([[1,2],[3,4]])\n",
    "print(inputArray)\n",
    "outputArray = inputArray.flatten()\n",
    "print(outputArray)\n",
    "\n",
    "outputArray = []\n",
    "for row in inputArray: \n",
    "    for elem in row: \n",
    "        outputArray.append(elem)\n",
    "\n",
    "outputArray = np.array(outputArray)\n",
    "        \n",
    "print(outputArray)\n",
    "print(type(outputArray))"
   ]
  },
  {
   "cell_type": "code",
   "execution_count": 7,
   "metadata": {},
   "outputs": [],
   "source": [
    "# List Comprension\n",
    "output_array = np.array([\n",
    "    elem\n",
    "    for row in inputArray\n",
    "    for elem in row\n",
    "])"
   ]
  },
  {
   "cell_type": "code",
   "execution_count": 8,
   "metadata": {},
   "outputs": [
    {
     "data": {
      "text/plain": [
       "array([1, 2, 3, 4])"
      ]
     },
     "execution_count": 8,
     "metadata": {},
     "output_type": "execute_result"
    }
   ],
   "source": [
    "output_array"
   ]
  },
  {
   "cell_type": "markdown",
   "metadata": {},
   "source": [
    "2. Given a jagged array `inputArray`, write a `for` loop that flattens it to `outputArray`. For example, `inputArray = np.array([[1,2,3], [4]])`\n",
    "would yield `np.array([1,2,3,4])` for `outputArray`."
   ]
  },
  {
   "cell_type": "code",
   "execution_count": 9,
   "metadata": {},
   "outputs": [
    {
     "name": "stdout",
     "output_type": "stream",
     "text": [
      "[list([1, 2, 3]) list([4])]\n",
      "<class 'numpy.ndarray'>\n",
      "[list([1, 2, 3]) list([4])]\n",
      "[list([1, 2, 3]) list([4])]\n",
      "[1 2 3 4]\n",
      "<class 'numpy.ndarray'>\n"
     ]
    }
   ],
   "source": [
    "inputArray = np.array([[1,2,3], [4]])\n",
    "print(inputArray)\n",
    "print(type(inputArray))\n",
    "outputArray = np.ravel(inputArray.flatten())\n",
    "print(outputArray)\n",
    "outputArray = inputArray.reshape(-1)\n",
    "print(outputArray)\n",
    "\n",
    "outputArray = []\n",
    "for i in inputArray: \n",
    "    for j in i: \n",
    "        outputArray.append(j)\n",
    "        #np.asarray(outputArray)\n",
    "outputArray = np.array(outputArray)\n",
    "\n",
    "print(outputArray)\n",
    "outputArray\n",
    "print(type(outputArray))"
   ]
  },
  {
   "cell_type": "markdown",
   "metadata": {},
   "source": [
    "### Packages\n",
    "**_How to import and use packages?_**"
   ]
  },
  {
   "cell_type": "markdown",
   "metadata": {},
   "source": [
    "3. Create an array `A` from the list \n",
    "\n",
    "`[[1, 0, 0, 1, 0, 0], [0, 0, 2, 0, 0, 1], [0, 0, 0, 2, 0, 0]]`\n",
    "\n",
    "Use `memory.getsizeof` to determine how much space `A` takes up in memory."
   ]
  },
  {
   "cell_type": "code",
   "execution_count": 36,
   "metadata": {},
   "outputs": [
    {
     "name": "stdout",
     "output_type": "stream",
     "text": [
      "[[1, 0, 0, 1, 0, 0], [0, 0, 2, 0, 0, 1], [0, 0, 0, 2, 0, 0]]\n",
      "<class 'list'>\n",
      "[[1 0 0 1 0 0]\n",
      " [0 0 2 0 0 1]\n",
      " [0 0 0 2 0 0]]\n",
      "<class 'numpy.ndarray'>\n"
     ]
    },
    {
     "data": {
      "text/plain": [
       "144"
      ]
     },
     "execution_count": 36,
     "metadata": {},
     "output_type": "execute_result"
    }
   ],
   "source": [
    "A = [[1, 0, 0, 1, 0, 0], [0, 0, 2, 0, 0, 1], [0, 0, 0, 2, 0, 0]]\n",
    "print(A)\n",
    "print(type(A))\n",
    "\n",
    "A = np.asarray(A)\n",
    "print(A)\n",
    "print(type(A))\n",
    "\n",
    "memory.getsizeof(A)"
   ]
  },
  {
   "cell_type": "markdown",
   "metadata": {},
   "source": [
    "4. Use `scipy.sparse.csr_matrix` to covert `A` into `S`. Use `memory.getsizeof` to determine how much space `S` takes up in memory."
   ]
  },
  {
   "cell_type": "code",
   "execution_count": 37,
   "metadata": {},
   "outputs": [
    {
     "name": "stdout",
     "output_type": "stream",
     "text": [
      "  (0, 0)\t1\n",
      "  (0, 3)\t1\n",
      "  (1, 2)\t2\n",
      "  (1, 5)\t1\n",
      "  (2, 3)\t2\n"
     ]
    },
    {
     "data": {
      "text/plain": [
       "76"
      ]
     },
     "execution_count": 37,
     "metadata": {},
     "output_type": "execute_result"
    }
   ],
   "source": [
    "S = scipy.sparse.csr_matrix(A)\n",
    "print(S)\n",
    "\n",
    "memory.getsizeof(S)"
   ]
  },
  {
   "cell_type": "markdown",
   "metadata": {},
   "source": [
    "5. What accounts for the difference? Try calling `print` on `S`."
   ]
  },
  {
   "cell_type": "code",
   "execution_count": 33,
   "metadata": {},
   "outputs": [
    {
     "name": "stdout",
     "output_type": "stream",
     "text": [
      "  (0, 0)\t1\n",
      "  (0, 3)\t1\n",
      "  (1, 2)\t2\n",
      "  (1, 5)\t1\n",
      "  (2, 3)\t2\n"
     ]
    }
   ],
   "source": [
    "print(S)"
   ]
  },
  {
   "cell_type": "code",
   "execution_count": null,
   "metadata": {},
   "outputs": [],
   "source": [
    "# The difference in storage is caused by the space saved when using a sparse matrix vs a dense matrix. (https://machinelearningmastery.com/sparse-matrices-for-machine-learning/). \n",
    "# Sparse matrices are comprised mostly of 0 values. We are not saving the 0's in a sparse matrix. "
   ]
  }
 ],
 "metadata": {
  "kernelspec": {
   "display_name": "Python 3",
   "language": "python",
   "name": "python3"
  },
  "language_info": {
   "codemirror_mode": {
    "name": "ipython",
    "version": 3
   },
   "file_extension": ".py",
   "mimetype": "text/x-python",
   "name": "python",
   "nbconvert_exporter": "python",
   "pygments_lexer": "ipython3",
   "version": "3.7.3"
  },
  "latex_envs": {
   "LaTeX_envs_menu_present": true,
   "autoclose": false,
   "autocomplete": true,
   "bibliofile": "biblio.bib",
   "cite_by": "apalike",
   "current_citInitial": 1,
   "eqLabelWithNumbers": true,
   "eqNumInitial": 1,
   "hotkeys": {
    "equation": "Ctrl-E",
    "itemize": "Ctrl-I"
   },
   "labels_anchors": false,
   "latex_user_defs": false,
   "report_style_numbering": false,
   "user_envs_cfg": false
  },
  "toc": {
   "base_numbering": 1,
   "nav_menu": {},
   "number_sections": true,
   "sideBar": true,
   "skip_h1_title": false,
   "title_cell": "Table of Contents",
   "title_sidebar": "Contents",
   "toc_cell": false,
   "toc_position": {},
   "toc_section_display": true,
   "toc_window_display": false
  }
 },
 "nbformat": 4,
 "nbformat_minor": 2
}
