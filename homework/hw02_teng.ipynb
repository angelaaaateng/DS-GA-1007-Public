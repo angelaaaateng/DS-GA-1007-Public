{
 "cells": [
  {
   "cell_type": "markdown",
   "metadata": {},
   "source": [
    "## Homework 2"
   ]
  },
  {
   "cell_type": "markdown",
   "metadata": {},
   "source": [
    "Please import the following package."
   ]
  },
  {
   "cell_type": "code",
   "execution_count": 66,
   "metadata": {},
   "outputs": [],
   "source": [
    "import numpy as np"
   ]
  },
  {
   "cell_type": "markdown",
   "metadata": {},
   "source": [
    "### Loops\n",
    "\n",
    "**_How to work with multiple indices?_**"
   ]
  },
  {
   "cell_type": "markdown",
   "metadata": {},
   "source": [
    "<ol>\n",
    "    <li> \n",
    "        \n",
    "Use the code from Homework 1 Question 1 to write a function `flatten` that takes as input an array with shape `(r,c)` and outputs an array with shape `(rc,)`.  For example, input `np.array([[1,2], [3,4]])` would yield output `np.array([1,2,3,4])`. Note that the array has two indices. The indices indicate the row and column. We flatten the array by going across the columns in each row. \n",
    "    </li>"
   ]
  },
  {
   "cell_type": "code",
   "execution_count": 67,
   "metadata": {},
   "outputs": [],
   "source": [
    "# Implement this\n",
    "outputArray = []\n",
    "\n",
    "def flatten(arr):\n",
    "    for row in arr:\n",
    "        for elem in row:\n",
    "            outputArray.append(elem)\n",
    "    return(outputArray)\n",
    "    \n",
    "#     raise NotImplementedError()\n"
   ]
  },
  {
   "cell_type": "code",
   "execution_count": 68,
   "metadata": {},
   "outputs": [
    {
     "data": {
      "text/plain": [
       "[1, 2, 3, 4]"
      ]
     },
     "execution_count": 68,
     "metadata": {},
     "output_type": "execute_result"
    }
   ],
   "source": [
    "#arr =[[1,2], [3,4]]\n",
    "arr = np.array([[1,2], [3,4]])\n",
    "flatten(arr)"
   ]
  },
  {
   "cell_type": "code",
   "execution_count": 69,
   "metadata": {},
   "outputs": [
    {
     "data": {
      "text/plain": [
       "dtype('int64')"
      ]
     },
     "execution_count": 69,
     "metadata": {},
     "output_type": "execute_result"
    }
   ],
   "source": [
    "arr.dtype"
   ]
  },
  {
   "cell_type": "markdown",
   "metadata": {},
   "source": [
    "<ol start=2>\n",
    "<img src=\"diagram.png\" alt=\"drawing\" width=\"200\" style=\"float:right\"/>\n",
    "\n",
    "<br>\n",
    "<br>\n",
    "\n",
    "\n",
    "<li> Modify the function from Question 1. \n",
    " <ul> \n",
    "     <li> \n",
    "         \n",
    "Add a parameter called `major`. \n",
    "     </li> \n",
    " <li> \n",
    "     \n",
    "Make the default value of `major` be `\"row\"`\n",
    " </li>\n",
    " <li> Rewrite the loop so \n",
    "      <ul> \n",
    "          <li>\n",
    "              \n",
    "If `major` is `\"row\"`, then the array is flattened in row major order\n",
    "          </li>\n",
    "      <li> \n",
    "      \n",
    "If `major` is `\"column\"`, then the array is flattened in column major order \n",
    "      </li>\n",
    "     </ul>\n",
    "</li>\n",
    "</ul>\n",
    "</li>\n",
    "\n",
    "</ol>"
   ]
  },
  {
   "cell_type": "code",
   "execution_count": 70,
   "metadata": {},
   "outputs": [
    {
     "ename": "IndentationError",
     "evalue": "unexpected indent (<ipython-input-70-64b2cc422584>, line 11)",
     "output_type": "error",
     "traceback": [
      "\u001b[0;36m  File \u001b[0;32m\"<ipython-input-70-64b2cc422584>\"\u001b[0;36m, line \u001b[0;32m11\u001b[0m\n\u001b[0;31m    for j in i:\u001b[0m\n\u001b[0m    ^\u001b[0m\n\u001b[0;31mIndentationError\u001b[0m\u001b[0;31m:\u001b[0m unexpected indent\n"
     ]
    }
   ],
   "source": [
    "# Implement this, including modifying arguments\n",
    "\n",
    "def flatten_v2(arr, major=\"row\"):\n",
    "    outputArray = []\n",
    "    if major == \"row\":\n",
    "        for i in len(arr):\n",
    "            outputArray.append(i)\n",
    "                for j in i:\n",
    "                    outputArray.append(i)\n",
    "                \n",
    "    if major == \"column\": \n",
    "        for j in arr: \n",
    "            for i in j: \n",
    "                outputArray.append(j)\n",
    "    return outputArray\n",
    "\n"
   ]
  },
  {
   "cell_type": "code",
   "execution_count": 92,
   "metadata": {},
   "outputs": [
    {
     "name": "stdout",
     "output_type": "stream",
     "text": [
      "[1, 2, 3, 4, 5, 6]\n",
      "[1, 4, 2, 5, 3, 6]\n"
     ]
    }
   ],
   "source": [
    "arr = np.array([[1,2,3],[4,5,6]])\n",
    "\n",
    "def flatten_v2(arr, major=\"row\"): \n",
    "    outputArray = []\n",
    "    row, col = arr.shape\n",
    "    if major == \"row\":\n",
    "        for i in range(row): \n",
    "            for j in range(col): \n",
    "                outputArray.append(arr[i][j])\n",
    "    if major == \"column\": \n",
    "        for i in range(col): \n",
    "            for j in range(row): \n",
    "                outputArray.append(arr[j][i])\n",
    "    return(outputArray)\n",
    "\n",
    "print(flatten_v2(arr))\n",
    "print(flatten_v2(arr, \"column\"))"
   ]
  },
  {
   "cell_type": "code",
   "execution_count": null,
   "metadata": {},
   "outputs": [],
   "source": []
  },
  {
   "cell_type": "code",
   "execution_count": 57,
   "metadata": {},
   "outputs": [
    {
     "data": {
      "text/plain": [
       "1"
      ]
     },
     "execution_count": 57,
     "metadata": {},
     "output_type": "execute_result"
    }
   ],
   "source": [
    "arr = np.array([[1,2, 3], [3,4]])\n",
    "arr\n",
    "# len(arr)\n",
    "# len(arr[:1])\n",
    "len(arr[1:])"
   ]
  },
  {
   "cell_type": "code",
   "execution_count": 45,
   "metadata": {},
   "outputs": [
    {
     "data": {
      "text/plain": [
       "[array([1, 2]),\n",
       " array([1, 2]),\n",
       " array([3, 4]),\n",
       " array([3, 4]),\n",
       " array([1, 2]),\n",
       " array([1, 2]),\n",
       " array([3, 4]),\n",
       " array([3, 4])]"
      ]
     },
     "execution_count": 45,
     "metadata": {},
     "output_type": "execute_result"
    }
   ],
   "source": [
    "arr = np.array([[1,2], [3,4]])\n",
    "major = \"row\"\n",
    "\n",
    "flatten_v2(arr, major)\n",
    "\n"
   ]
  },
  {
   "cell_type": "code",
   "execution_count": 47,
   "metadata": {},
   "outputs": [
    {
     "data": {
      "text/plain": [
       "[array([1, 2]),\n",
       " array([1, 2]),\n",
       " array([3, 4]),\n",
       " array([3, 4]),\n",
       " array([1, 2]),\n",
       " array([1, 2]),\n",
       " array([3, 4]),\n",
       " array([3, 4]),\n",
       " array([1, 2]),\n",
       " array([1, 2]),\n",
       " array([3, 4]),\n",
       " array([3, 4]),\n",
       " [1, 2],\n",
       " [1, 2],\n",
       " [3, 4],\n",
       " [3, 4]]"
      ]
     },
     "execution_count": 47,
     "metadata": {},
     "output_type": "execute_result"
    }
   ],
   "source": [
    "arr = [[1,2], [3,4]]\n",
    "major = \"row\"\n",
    "\n",
    "flatten_v2(arr, major)\n"
   ]
  },
  {
   "cell_type": "code",
   "execution_count": 48,
   "metadata": {},
   "outputs": [
    {
     "data": {
      "text/plain": [
       "[array([1, 2]),\n",
       " array([1, 2]),\n",
       " array([3, 4]),\n",
       " array([3, 4]),\n",
       " array([1, 2]),\n",
       " array([1, 2]),\n",
       " array([3, 4]),\n",
       " array([3, 4]),\n",
       " array([1, 2]),\n",
       " array([1, 2]),\n",
       " array([3, 4]),\n",
       " array([3, 4]),\n",
       " [1, 2],\n",
       " [1, 2],\n",
       " [3, 4],\n",
       " [3, 4],\n",
       " array([1, 2]),\n",
       " array([1, 2]),\n",
       " array([3, 4]),\n",
       " array([3, 4])]"
      ]
     },
     "execution_count": 48,
     "metadata": {},
     "output_type": "execute_result"
    }
   ],
   "source": [
    "arr = np.array([[1,2], [3,4]])\n",
    "major = \"column\"\n",
    "flatten_v2(arr, major)"
   ]
  },
  {
   "cell_type": "code",
   "execution_count": 50,
   "metadata": {},
   "outputs": [],
   "source": [
    "#Alternatively, using numpy\n",
    "c = np.array([[1,2,3],\n",
    "              [4,6,7]], order='C')\n",
    "\n",
    "f = np.array([[1,2,3],\n",
    "              [4,6,7]], order='F')\n",
    "#https://en.wikipedia.org/wiki/Row-_and_column-major_order "
   ]
  },
  {
   "cell_type": "markdown",
   "metadata": {},
   "source": [
    "<ol start=3>\n",
    "\n",
    "<li> \n",
    "    \n",
    "Modify the function from Question 1 to allow for more than two indices. For example, if the input is an array with shape `(r,c,h)` then the output is an array with shape `(rch,)`. So input `np.array([ [[1,2], [3,4]], [[5,6], [7,8]] ])` which has shape `(2,2,2)` would yield output `np.array([1,2,3,4,5,6,7,8])` which has shape `(8,)`. You should approach the problem using recursion.  \n",
    "</li>\n",
    "\n",
    "</ol>"
   ]
  },
  {
   "cell_type": "code",
   "execution_count": 64,
   "metadata": {},
   "outputs": [],
   "source": [
    "# Implement this\n",
    "outputArray = []\n",
    "\n",
    "def flatten_v3(arr):\n",
    "#     raise NotImplementedError()\n",
    "    if type(arr) == np.array: \n",
    "        outputArray = flatten_v3(arr)\n",
    "    else: \n",
    "        outputArray.append([elem in row for row in arr])\n",
    "    return(outputArray + flatten_v3(arr))"
   ]
  },
  {
   "cell_type": "code",
   "execution_count": 65,
   "metadata": {},
   "outputs": [
    {
     "ename": "UnboundLocalError",
     "evalue": "local variable 'outputArray' referenced before assignment",
     "output_type": "error",
     "traceback": [
      "\u001b[0;31m---------------------------------------------------------------------------\u001b[0m",
      "\u001b[0;31mUnboundLocalError\u001b[0m                         Traceback (most recent call last)",
      "\u001b[0;32m<ipython-input-65-1c2dca91b2de>\u001b[0m in \u001b[0;36m<module>\u001b[0;34m\u001b[0m\n\u001b[1;32m      1\u001b[0m \u001b[0marr\u001b[0m \u001b[0;34m=\u001b[0m \u001b[0mnp\u001b[0m\u001b[0;34m.\u001b[0m\u001b[0marray\u001b[0m\u001b[0;34m(\u001b[0m\u001b[0;34m[\u001b[0m\u001b[0;34m[\u001b[0m\u001b[0;36m1\u001b[0m\u001b[0;34m,\u001b[0m\u001b[0;36m2\u001b[0m\u001b[0;34m]\u001b[0m\u001b[0;34m,\u001b[0m \u001b[0;34m[\u001b[0m\u001b[0;36m3\u001b[0m\u001b[0;34m,\u001b[0m\u001b[0;36m4\u001b[0m\u001b[0;34m]\u001b[0m\u001b[0;34m]\u001b[0m\u001b[0;34m)\u001b[0m\u001b[0;34m\u001b[0m\u001b[0;34m\u001b[0m\u001b[0m\n\u001b[1;32m      2\u001b[0m \u001b[0;34m\u001b[0m\u001b[0m\n\u001b[0;32m----> 3\u001b[0;31m \u001b[0mflatten_v3\u001b[0m\u001b[0;34m(\u001b[0m\u001b[0marr\u001b[0m\u001b[0;34m)\u001b[0m\u001b[0;34m\u001b[0m\u001b[0;34m\u001b[0m\u001b[0m\n\u001b[0m",
      "\u001b[0;32m<ipython-input-64-1b70582c3133>\u001b[0m in \u001b[0;36mflatten_v3\u001b[0;34m(arr)\u001b[0m\n\u001b[1;32m      7\u001b[0m         \u001b[0moutputArray\u001b[0m \u001b[0;34m=\u001b[0m \u001b[0mflatten_v3\u001b[0m\u001b[0;34m(\u001b[0m\u001b[0marr\u001b[0m\u001b[0;34m)\u001b[0m\u001b[0;34m\u001b[0m\u001b[0;34m\u001b[0m\u001b[0m\n\u001b[1;32m      8\u001b[0m     \u001b[0;32melse\u001b[0m\u001b[0;34m:\u001b[0m\u001b[0;34m\u001b[0m\u001b[0;34m\u001b[0m\u001b[0m\n\u001b[0;32m----> 9\u001b[0;31m         \u001b[0moutputArray\u001b[0m\u001b[0;34m.\u001b[0m\u001b[0mappend\u001b[0m\u001b[0;34m(\u001b[0m\u001b[0;34m[\u001b[0m\u001b[0melem\u001b[0m \u001b[0;32min\u001b[0m \u001b[0mrow\u001b[0m \u001b[0;32mfor\u001b[0m \u001b[0mrow\u001b[0m \u001b[0;32min\u001b[0m \u001b[0marr\u001b[0m\u001b[0;34m]\u001b[0m\u001b[0;34m)\u001b[0m\u001b[0;34m\u001b[0m\u001b[0;34m\u001b[0m\u001b[0m\n\u001b[0m\u001b[1;32m     10\u001b[0m     \u001b[0;32mreturn\u001b[0m\u001b[0;34m(\u001b[0m\u001b[0moutputArray\u001b[0m \u001b[0;34m+\u001b[0m \u001b[0mflatten_v3\u001b[0m\u001b[0;34m(\u001b[0m\u001b[0marr\u001b[0m\u001b[0;34m)\u001b[0m\u001b[0;34m)\u001b[0m\u001b[0;34m\u001b[0m\u001b[0;34m\u001b[0m\u001b[0m\n",
      "\u001b[0;31mUnboundLocalError\u001b[0m: local variable 'outputArray' referenced before assignment"
     ]
    }
   ],
   "source": [
    "arr = np.array([[1,2], [3,4]])\n",
    "\n",
    "flatten_v3(arr)"
   ]
  },
  {
   "cell_type": "markdown",
   "metadata": {},
   "source": [
    "### Storage\n",
    "\n",
    "**_How to compress an array with lots of zeros_**"
   ]
  },
  {
   "cell_type": "markdown",
   "metadata": {},
   "source": [
    "<ol>\n",
    "<li>\n",
    "Write a function called `dense_to_sparse` that inputs an array and outputs a dictionary with \n",
    "    <ul>\n",
    "<li>\n",
    "Keys as tuples containing `(row,column)` of all non-zero entries    \n",
    "</li>\n",
    "<li>\n",
    "Values as the corresponding non-zero entries.\n",
    "</li>\n",
    "</ul>\n",
    "\n",
    "The resulting entries should be in <i>row-major</i> order.\n",
    "\n",
    "For example, if the input is `np.array([[1,0], [0,4]])` then the output is `{(0,0):1, (1,1):4}`       \n",
    "</li>\n",
    "</ol>\n",
    "    "
   ]
  },
  {
   "cell_type": "code",
   "execution_count": null,
   "metadata": {},
   "outputs": [],
   "source": [
    "# Implement this\n",
    "def dense_to_sparse(arr):\n",
    "    raise NotImplementedError()"
   ]
  },
  {
   "cell_type": "markdown",
   "metadata": {},
   "source": [
    "<ol start=2>\n",
    "<li>\n",
    "    \n",
    "Write an inverse function called `sparse_to_dense`\n",
    "</li>\n",
    "</ol>"
   ]
  },
  {
   "cell_type": "code",
   "execution_count": null,
   "metadata": {},
   "outputs": [],
   "source": [
    "# Implement this\n",
    "def sparse_to_dense(arr):\n",
    "    raise NotImplementedError()"
   ]
  }
 ],
 "metadata": {
  "kernelspec": {
   "display_name": "Python 3",
   "language": "python",
   "name": "python3"
  },
  "language_info": {
   "codemirror_mode": {
    "name": "ipython",
    "version": 3
   },
   "file_extension": ".py",
   "mimetype": "text/x-python",
   "name": "python",
   "nbconvert_exporter": "python",
   "pygments_lexer": "ipython3",
   "version": "3.7.3"
  },
  "latex_envs": {
   "LaTeX_envs_menu_present": true,
   "autoclose": false,
   "autocomplete": true,
   "bibliofile": "biblio.bib",
   "cite_by": "apalike",
   "current_citInitial": 1,
   "eqLabelWithNumbers": true,
   "eqNumInitial": 1,
   "hotkeys": {
    "equation": "Ctrl-E",
    "itemize": "Ctrl-I"
   },
   "labels_anchors": false,
   "latex_user_defs": false,
   "report_style_numbering": false,
   "user_envs_cfg": false
  },
  "toc": {
   "base_numbering": 1,
   "nav_menu": {},
   "number_sections": true,
   "sideBar": true,
   "skip_h1_title": false,
   "title_cell": "Table of Contents",
   "title_sidebar": "Contents",
   "toc_cell": false,
   "toc_position": {},
   "toc_section_display": true,
   "toc_window_display": false
  }
 },
 "nbformat": 4,
 "nbformat_minor": 4
}
