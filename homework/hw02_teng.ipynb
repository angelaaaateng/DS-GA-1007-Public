{
 "cells": [
  {
   "cell_type": "markdown",
   "metadata": {},
   "source": [
    "## Homework 2"
   ]
  },
  {
   "cell_type": "markdown",
   "metadata": {},
   "source": [
    "Please import the following package."
   ]
  },
  {
   "cell_type": "code",
   "execution_count": 1,
   "metadata": {},
   "outputs": [],
   "source": [
    "import numpy as np"
   ]
  },
  {
   "cell_type": "markdown",
   "metadata": {},
   "source": [
    "### Loops\n",
    "\n",
    "**_How to work with multiple indices?_**"
   ]
  },
  {
   "cell_type": "markdown",
   "metadata": {},
   "source": [
    "<ol>\n",
    "    <li> \n",
    "        \n",
    "Use the code from Homework 1 Question 1 to write a function `flatten` that takes as input an array with shape `(r,c)` and outputs an array with shape `(rc,)`.  For example, input `np.array([[1,2], [3,4]])` would yield output `np.array([1,2,3,4])`. Note that the array has two indices. The indices indicate the row and column. We flatten the array by going across the columns in each row. \n",
    "    </li>"
   ]
  },
  {
   "cell_type": "code",
   "execution_count": 18,
   "metadata": {},
   "outputs": [],
   "source": [
    "# Implement this\n",
    "outputArray = []\n",
    "\n",
    "def flatten(arr):\n",
    "    i=0\n",
    "    while i<len(arr):\n",
    "        while True:\n",
    "            try:\n",
    "                arr[i:i+1] = arr[i]\n",
    "            except (TypeError, IndexError):\n",
    "                break\n",
    "        i += 1\n",
    "    \n",
    "\n",
    "#     for row in arr:\n",
    "#         for elem in row:\n",
    "#             outputArray.append(elem)\n",
    "    \n",
    "    raise NotImplementedError()\n",
    "\n",
    "# outputArray = np.array(outputArray)\n",
    "# print(outputArray)\n",
    "# print(type(outputArray))"
   ]
  },
  {
   "cell_type": "code",
   "execution_count": 19,
   "metadata": {},
   "outputs": [
    {
     "ename": "NotImplementedError",
     "evalue": "",
     "output_type": "error",
     "traceback": [
      "\u001b[0;31m---------------------------------------------------------------------------\u001b[0m",
      "\u001b[0;31mNotImplementedError\u001b[0m                       Traceback (most recent call last)",
      "\u001b[0;32m<ipython-input-19-43cd73b97c94>\u001b[0m in \u001b[0;36m<module>\u001b[0;34m\u001b[0m\n\u001b[1;32m      1\u001b[0m \u001b[0marr\u001b[0m \u001b[0;34m=\u001b[0m\u001b[0;34m[\u001b[0m\u001b[0;34m[\u001b[0m\u001b[0;36m1\u001b[0m\u001b[0;34m,\u001b[0m\u001b[0;36m2\u001b[0m\u001b[0;34m]\u001b[0m\u001b[0;34m,\u001b[0m \u001b[0;34m[\u001b[0m\u001b[0;36m3\u001b[0m\u001b[0;34m,\u001b[0m\u001b[0;36m4\u001b[0m\u001b[0;34m]\u001b[0m\u001b[0;34m]\u001b[0m\u001b[0;34m\u001b[0m\u001b[0m\n\u001b[0;32m----> 2\u001b[0;31m \u001b[0mflatten\u001b[0m\u001b[0;34m(\u001b[0m\u001b[0marr\u001b[0m\u001b[0;34m)\u001b[0m\u001b[0;34m\u001b[0m\u001b[0m\n\u001b[0m",
      "\u001b[0;32m<ipython-input-18-0e0830fee5a5>\u001b[0m in \u001b[0;36mflatten\u001b[0;34m(arr)\u001b[0m\n\u001b[1;32m     17\u001b[0m \u001b[0;31m#             outputArray.append(elem)\u001b[0m\u001b[0;34m\u001b[0m\u001b[0;34m\u001b[0m\u001b[0m\n\u001b[1;32m     18\u001b[0m \u001b[0;34m\u001b[0m\u001b[0m\n\u001b[0;32m---> 19\u001b[0;31m     \u001b[0;32mraise\u001b[0m \u001b[0mNotImplementedError\u001b[0m\u001b[0;34m(\u001b[0m\u001b[0;34m)\u001b[0m\u001b[0;34m\u001b[0m\u001b[0m\n\u001b[0m\u001b[1;32m     20\u001b[0m \u001b[0;34m\u001b[0m\u001b[0m\n\u001b[1;32m     21\u001b[0m \u001b[0;31m# outputArray = np.array(outputArray)\u001b[0m\u001b[0;34m\u001b[0m\u001b[0;34m\u001b[0m\u001b[0m\n",
      "\u001b[0;31mNotImplementedError\u001b[0m: "
     ]
    }
   ],
   "source": [
    "arr =[[1,2], [3,4]]\n",
    "flatten(arr)"
   ]
  },
  {
   "cell_type": "markdown",
   "metadata": {},
   "source": [
    "<ol start=2>\n",
    "<img src=\"diagram.png\" alt=\"drawing\" width=\"200\" style=\"float:right\"/>\n",
    "\n",
    "<br>\n",
    "<br>\n",
    "\n",
    "\n",
    "<li> Modify the function from Question 1. \n",
    " <ul> \n",
    "     <li> \n",
    "         \n",
    "Add a parameter called `major`. \n",
    "     </li> \n",
    " <li> \n",
    "     \n",
    "Make the default value of `major` be `\"row\"`\n",
    " </li>\n",
    " <li> Rewrite the loop so \n",
    "      <ul> \n",
    "          <li>\n",
    "              \n",
    "If `major` is `\"row\"`, then the array is flattened in row major order\n",
    "          </li>\n",
    "      <li> \n",
    "      \n",
    "If `major` is `\"column\"`, then the array is flattened in column major order \n",
    "      </li>\n",
    "     </ul>\n",
    "</li>\n",
    "</ul>\n",
    "</li>\n",
    "\n",
    "</ol>"
   ]
  },
  {
   "cell_type": "code",
   "execution_count": null,
   "metadata": {},
   "outputs": [],
   "source": [
    "# Implement this, including modifying arguments\n",
    "def flatten_v2(arr):\n",
    "    raise NotImplementedError()"
   ]
  },
  {
   "cell_type": "markdown",
   "metadata": {},
   "source": [
    "<ol start=3>\n",
    "\n",
    "<li> \n",
    "    \n",
    "Modify the function from Question 1 to allow for more than two indices. For example, if the input is an array with shape `(r,c,h)` then the output is an array with shape `(rch,)`. So input `np.array([ [[1,2], [3,4]], [[5,6], [7,8]] ])` which has shape `(2,2,2)` would yield output `np.array([1,2,3,4,5,6,7,8])` which has shape `(8,)`. You should approach the problem using recursion.  \n",
    "</li>\n",
    "\n",
    "</ol>"
   ]
  },
  {
   "cell_type": "code",
   "execution_count": null,
   "metadata": {},
   "outputs": [],
   "source": [
    "# Implement this\n",
    "def flatten_v3(arr):\n",
    "    raise NotImplementedError()"
   ]
  },
  {
   "cell_type": "markdown",
   "metadata": {},
   "source": [
    "### Storage\n",
    "\n",
    "**_How to compress an array with lots of zeros_**"
   ]
  },
  {
   "cell_type": "markdown",
   "metadata": {},
   "source": [
    "<ol>\n",
    "<li>\n",
    "Write a function called `dense_to_sparse` that inputs an array and outputs a dictionary with \n",
    "    <ul>\n",
    "<li>\n",
    "Keys as tuples containing `(row,column)` of all non-zero entries    \n",
    "</li>\n",
    "<li>\n",
    "Values as the corresponding non-zero entries.\n",
    "</li>\n",
    "</ul>\n",
    "\n",
    "The resulting entries should be in <i>row-major</i> order.\n",
    "\n",
    "For example, if the input is `np.array([[1,0], [0,4]])` then the output is `{(0,0):1, (1,1):4}`       \n",
    "</li>\n",
    "</ol>\n",
    "    "
   ]
  },
  {
   "cell_type": "code",
   "execution_count": null,
   "metadata": {},
   "outputs": [],
   "source": [
    "# Implement this\n",
    "def dense_to_sparse(arr):\n",
    "    raise NotImplementedError()"
   ]
  },
  {
   "cell_type": "markdown",
   "metadata": {},
   "source": [
    "<ol start=2>\n",
    "<li>\n",
    "    \n",
    "Write an inverse function called `sparse_to_dense`\n",
    "</li>\n",
    "</ol>"
   ]
  },
  {
   "cell_type": "code",
   "execution_count": null,
   "metadata": {},
   "outputs": [],
   "source": [
    "# Implement this\n",
    "def sparse_to_dense(arr):\n",
    "    raise NotImplementedError()"
   ]
  }
 ],
 "metadata": {
  "kernelspec": {
   "display_name": "Python 3",
   "language": "python",
   "name": "python3"
  },
  "language_info": {
   "codemirror_mode": {
    "name": "ipython",
    "version": 3
   },
   "file_extension": ".py",
   "mimetype": "text/x-python",
   "name": "python",
   "nbconvert_exporter": "python",
   "pygments_lexer": "ipython3",
   "version": "3.7.0"
  }
 },
 "nbformat": 4,
 "nbformat_minor": 4
}
