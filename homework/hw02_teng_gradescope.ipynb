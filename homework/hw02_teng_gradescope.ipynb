{
 "cells": [
  {
   "cell_type": "markdown",
   "metadata": {},
   "source": [
    "## Homework 2"
   ]
  },
  {
   "cell_type": "markdown",
   "metadata": {},
   "source": [
    "Please import the following package."
   ]
  },
  {
   "cell_type": "code",
   "execution_count": 1,
   "metadata": {},
   "outputs": [],
   "source": [
    "import numpy as np"
   ]
  },
  {
   "cell_type": "markdown",
   "metadata": {},
   "source": [
    "### Loops\n",
    "\n",
    "**_How to work with multiple indices?_**"
   ]
  },
  {
   "cell_type": "markdown",
   "metadata": {},
   "source": [
    "<ol>\n",
    "    <li> \n",
    "        \n",
    "Use the code from Homework 1 Question 1 to write a function `flatten` that takes as input an array with shape `(r,c)` and outputs an array with shape `(rc,)`.  For example, input `np.array([[1,2], [3,4]])` would yield output `np.array([1,2,3,4])`. Note that the array has two indices. The indices indicate the row and column. We flatten the array by going across the columns in each row. \n",
    "    </li>"
   ]
  },
  {
   "cell_type": "code",
   "execution_count": 2,
   "metadata": {},
   "outputs": [],
   "source": [
    "# Implement this\n",
    "outputArray = []\n",
    "\n",
    "def flatten(arr):\n",
    "    for row in arr:\n",
    "        for elem in row:\n",
    "            outputArray.append(elem)\n",
    "    return(outputArray)\n",
    "    \n",
    "#     raise NotImplementedError()\n"
   ]
  },
  {
   "cell_type": "code",
   "execution_count": 3,
   "metadata": {},
   "outputs": [
    {
     "data": {
      "text/plain": [
       "[1, 2, 3, 4]"
      ]
     },
     "execution_count": 3,
     "metadata": {},
     "output_type": "execute_result"
    }
   ],
   "source": [
    "#arr =[[1,2], [3,4]]\n",
    "arr = np.array([[1,2], [3,4]])\n",
    "flatten(arr)"
   ]
  },
  {
   "cell_type": "code",
   "execution_count": 4,
   "metadata": {},
   "outputs": [
    {
     "data": {
      "text/plain": [
       "dtype('int64')"
      ]
     },
     "execution_count": 4,
     "metadata": {},
     "output_type": "execute_result"
    }
   ],
   "source": [
    "arr.dtype"
   ]
  },
  {
   "cell_type": "markdown",
   "metadata": {},
   "source": [
    "<ol start=2>\n",
    "<img src=\"diagram.png\" alt=\"drawing\" width=\"200\" style=\"float:right\"/>\n",
    "\n",
    "<br>\n",
    "<br>\n",
    "\n",
    "\n",
    "<li> Modify the function from Question 1. \n",
    " <ul> \n",
    "     <li> \n",
    "         \n",
    "Add a parameter called `major`. \n",
    "     </li> \n",
    " <li> \n",
    "     \n",
    "Make the default value of `major` be `\"row\"`\n",
    " </li>\n",
    " <li> Rewrite the loop so \n",
    "      <ul> \n",
    "          <li>\n",
    "              \n",
    "If `major` is `\"row\"`, then the array is flattened in row major order\n",
    "          </li>\n",
    "      <li> \n",
    "      \n",
    "If `major` is `\"column\"`, then the array is flattened in column major order \n",
    "      </li>\n",
    "     </ul>\n",
    "</li>\n",
    "</ul>\n",
    "</li>\n",
    "\n",
    "</ol>"
   ]
  },
  {
   "cell_type": "code",
   "execution_count": 5,
   "metadata": {},
   "outputs": [
    {
     "name": "stdout",
     "output_type": "stream",
     "text": [
      "[1, 2, 3, 4, 5, 6]\n",
      "[1, 4, 2, 5, 3, 6]\n"
     ]
    }
   ],
   "source": [
    "# Implement this, including modifying arguments\n",
    "arr = np.array([[1,2,3],[4,5,6]])\n",
    "\n",
    "def flatten_v2(arr, major=\"row\"): \n",
    "    outputArray = []\n",
    "    row, col = arr.shape\n",
    "    if major == \"row\":\n",
    "        for i in range(row): \n",
    "            for j in range(col): \n",
    "                outputArray.append(arr[i][j])\n",
    "    if major == \"column\": \n",
    "        for i in range(col): \n",
    "            for j in range(row): \n",
    "                outputArray.append(arr[j][i])\n",
    "    return(outputArray)\n",
    "\n",
    "print(flatten_v2(arr))\n",
    "print(flatten_v2(arr, \"column\"))\n"
   ]
  },
  {
   "cell_type": "markdown",
   "metadata": {},
   "source": [
    "<ol start=3>\n",
    "\n",
    "<li> \n",
    "    \n",
    "Modify the function from Question 1 to allow for more than two indices. For example, if the input is an array with shape `(r,c,h)` then the output is an array with shape `(rch,)`. So input `np.array([ [[1,2], [3,4]], [[5,6], [7,8]] ])` which has shape `(2,2,2)` would yield output `np.array([1,2,3,4,5,6,7,8])` which has shape `(8,)`. You should approach the problem using recursion.  \n",
    "</li>\n",
    "\n",
    "</ol>"
   ]
  },
  {
   "cell_type": "code",
   "execution_count": 6,
   "metadata": {},
   "outputs": [
    {
     "data": {
      "text/plain": [
       "[1, 2, 3, 4, 5, 6, 7, 8]"
      ]
     },
     "execution_count": 6,
     "metadata": {},
     "output_type": "execute_result"
    }
   ],
   "source": [
    "# Implement this\n",
    "\n",
    "#iterative solution\n",
    "def flatten_v3(arr):\n",
    "    #raise NotImplementedError()\n",
    "    outputArray = []\n",
    "    row, col, height = arr.shape\n",
    "    for i in range(height): \n",
    "        for j in range(row): \n",
    "            for k in range(col): \n",
    "                outputArray.append(arr[i][j][k])\n",
    "    return(outputArray)\n",
    "\n",
    "arr = np.array([ [[1,2], [3,4]], [[5,6], [7,8]] ])\n",
    "flatten_v3(arr) "
   ]
  },
  {
   "cell_type": "code",
   "execution_count": 33,
   "metadata": {},
   "outputs": [
    {
     "data": {
      "text/plain": [
       "array([1, 2, 3, 4, 5, 6, 7, 8])"
      ]
     },
     "execution_count": 33,
     "metadata": {},
     "output_type": "execute_result"
    }
   ],
   "source": [
    "#recursive solution\n",
    "def flatten_v3(arr):\n",
    "    #raise NotImplementedError()\n",
    "    outputArray = []\n",
    "#     height, row, col = arr.shape\n",
    "    \n",
    "    if len(arr.shape)==1: \n",
    "        return(arr)\n",
    "    \n",
    "    while len(arr.shape) > 1: \n",
    "        for i in arr:\n",
    "            outputArray.extend(flatten_v3(i))\n",
    "            #or if you just want it as a outputArray you can remove np.array\n",
    "        return(np.array(outputArray))\n",
    "\n",
    "arr = np.array([ [[1,2], [3,4]], [[5,6], [7,8]] ])\n",
    "\n",
    "flatten_v3(arr) "
   ]
  },
  {
   "cell_type": "code",
   "execution_count": 34,
   "metadata": {},
   "outputs": [
    {
     "data": {
      "text/plain": [
       "(8,)"
      ]
     },
     "execution_count": 34,
     "metadata": {},
     "output_type": "execute_result"
    }
   ],
   "source": [
    "flatten_v3(arr).shape"
   ]
  },
  {
   "cell_type": "markdown",
   "metadata": {},
   "source": [
    "### Storage\n",
    "\n",
    "**_How to compress an array with lots of zeros_**"
   ]
  },
  {
   "cell_type": "markdown",
   "metadata": {},
   "source": [
    "<ol>\n",
    "<li>\n",
    "Write a function called `dense_to_sparse` that inputs an array and outputs a dictionary with \n",
    "    <ul>\n",
    "<li>\n",
    "Keys as tuples containing `(row,column)` of all non-zero entries    \n",
    "</li>\n",
    "<li>\n",
    "Values as the corresponding non-zero entries.\n",
    "</li>\n",
    "</ul>\n",
    "\n",
    "The resulting entries should be in <i>row-major</i> order.\n",
    "\n",
    "For example, if the input is `np.array([[1,0], [0,4]])` then the output is `{(0,0):1, (1,1):4}`       \n",
    "</li>\n",
    "</ol>\n",
    "    "
   ]
  },
  {
   "cell_type": "code",
   "execution_count": 14,
   "metadata": {},
   "outputs": [
    {
     "name": "stdout",
     "output_type": "stream",
     "text": [
      "{(0, 0): 1, (1, 1): 4}\n"
     ]
    }
   ],
   "source": [
    "# Implement this\n",
    "def dense_to_sparse(arr):\n",
    "    #raise NotImplementedError()\n",
    "    outputDictionary = {}\n",
    "    row, col = arr.shape\n",
    "    for i in range(row): \n",
    "        for j in range(col):\n",
    "            if arr[i][j] != 0:\n",
    "                outputDictionary.update({(i,j) : arr[i][j]})\n",
    "    return(outputDictionary)\n",
    "\n",
    "arr = np.array([[1,0], [0,4]])\n",
    "# arr = np.array([[1,0,3], [0,4,3], [0,3,3]])\n",
    "print(dense_to_sparse(arr))"
   ]
  },
  {
   "cell_type": "markdown",
   "metadata": {},
   "source": [
    "<ol start=2>\n",
    "<li>\n",
    "    \n",
    "Write an inverse function called `sparse_to_dense`\n",
    "</li>\n",
    "</ol>"
   ]
  },
  {
   "cell_type": "code",
   "execution_count": 37,
   "metadata": {},
   "outputs": [
    {
     "data": {
      "text/plain": [
       "array([[1., 0.],\n",
       "       [0., 4.]])"
      ]
     },
     "execution_count": 37,
     "metadata": {},
     "output_type": "execute_result"
    }
   ],
   "source": [
    "# Implement this\n",
    "def sparse_to_dense(arr):\n",
    "    #initialize matrix with all 0's w size of dict\n",
    "    max_row_num=0\n",
    "    max_col_num = 0\n",
    "    for (i,j) in arr: \n",
    "        if i > max_row_num: \n",
    "            max_row_num = i \n",
    "        if j > max_col_num: \n",
    "            max_col_num = j \n",
    "    total_rows = max_row_num + 1 \n",
    "    total_cols = max_col_num + 1 \n",
    "    \n",
    "    new_dict=np.zeros([total_rows, total_cols])\n",
    "#     print(new_dict.dtype)\n",
    "    #indexing \n",
    "    for (i,j) in arr: \n",
    "        new_dict[i][j] = arr[(i,j)]\n",
    "        #if you want output as a list use tolist, otherwise keep it as an array\n",
    "        #new_dict.tolist()\n",
    "    return(new_dict)\n",
    "\n",
    "arr = {(0, 0): 1, (1, 1): 4}\n",
    "sparse_to_dense(arr)"
   ]
  },
  {
   "cell_type": "code",
   "execution_count": null,
   "metadata": {},
   "outputs": [],
   "source": []
  }
 ],
 "metadata": {
  "kernelspec": {
   "display_name": "Python 3",
   "language": "python",
   "name": "python3"
  },
  "language_info": {
   "codemirror_mode": {
    "name": "ipython",
    "version": 3
   },
   "file_extension": ".py",
   "mimetype": "text/x-python",
   "name": "python",
   "nbconvert_exporter": "python",
   "pygments_lexer": "ipython3",
   "version": "3.7.3"
  },
  "latex_envs": {
   "LaTeX_envs_menu_present": true,
   "autoclose": false,
   "autocomplete": true,
   "bibliofile": "biblio.bib",
   "cite_by": "apalike",
   "current_citInitial": 1,
   "eqLabelWithNumbers": true,
   "eqNumInitial": 1,
   "hotkeys": {
    "equation": "Ctrl-E",
    "itemize": "Ctrl-I"
   },
   "labels_anchors": false,
   "latex_user_defs": false,
   "report_style_numbering": false,
   "user_envs_cfg": false
  },
  "toc": {
   "base_numbering": 1,
   "nav_menu": {},
   "number_sections": true,
   "sideBar": true,
   "skip_h1_title": false,
   "title_cell": "Table of Contents",
   "title_sidebar": "Contents",
   "toc_cell": false,
   "toc_position": {},
   "toc_section_display": true,
   "toc_window_display": false
  }
 },
 "nbformat": 4,
 "nbformat_minor": 4
}
